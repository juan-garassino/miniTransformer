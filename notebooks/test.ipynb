{
 "cells": [
  {
   "cell_type": "code",
   "execution_count": 8,
   "metadata": {},
   "outputs": [
    {
     "name": "stdout",
     "output_type": "stream",
     "text": [
      "Epoch 1/10\n",
      "7/7 [==============================] - 2s 2ms/step - loss: 23798.6699 - dense_30_loss: 0.7160 - dense_31_loss: 23797.9551\n",
      "Epoch 2/10\n",
      "7/7 [==============================] - 0s 3ms/step - loss: 23741.5645 - dense_30_loss: 0.7188 - dense_31_loss: 23740.8457\n",
      "Epoch 3/10\n",
      "7/7 [==============================] - 0s 2ms/step - loss: 23679.7109 - dense_30_loss: 0.7252 - dense_31_loss: 23678.9844\n",
      "Epoch 4/10\n",
      "7/7 [==============================] - 0s 3ms/step - loss: 23600.2617 - dense_30_loss: 0.7392 - dense_31_loss: 23599.5234\n",
      "Epoch 5/10\n",
      "7/7 [==============================] - 0s 4ms/step - loss: 23495.8945 - dense_30_loss: 0.7533 - dense_31_loss: 23495.1426\n",
      "Epoch 6/10\n",
      "7/7 [==============================] - 0s 3ms/step - loss: 23363.7441 - dense_30_loss: 0.7763 - dense_31_loss: 23362.9668\n",
      "Epoch 7/10\n",
      "7/7 [==============================] - 0s 3ms/step - loss: 23189.5801 - dense_30_loss: 0.7975 - dense_31_loss: 23188.7793\n",
      "Epoch 8/10\n",
      "7/7 [==============================] - 0s 10ms/step - loss: 22961.6367 - dense_30_loss: 0.8262 - dense_31_loss: 22960.8125\n",
      "Epoch 9/10\n",
      "7/7 [==============================] - 0s 3ms/step - loss: 22664.8242 - dense_30_loss: 0.8431 - dense_31_loss: 22663.9844\n",
      "Epoch 10/10\n",
      "7/7 [==============================] - 0s 3ms/step - loss: 22282.4883 - dense_30_loss: 0.8617 - dense_31_loss: 22281.6270\n",
      "1/1 [==============================] - 0s 79ms/step\n",
      "[array([[0.30991226]], dtype=float32), array([[5.627608 , 4.9225144, 5.3218265]], dtype=float32)]\n"
     ]
    }
   ],
   "source": [
    "import numpy as np\n",
    "import tensorflow as tf\n",
    "from tensorflow import keras\n",
    "\n",
    "import numpy as np\n",
    "import tensorflow as tf\n",
    "from tensorflow import keras\n",
    "\n",
    "# Define the architecture of the neural network\n",
    "input_dim = 10  # example input size\n",
    "output_dim_sigmoid = 1\n",
    "output_dim_linear = 3\n",
    "\n",
    "input_layer = keras.layers.Input(shape=(input_dim, ))\n",
    "dense_1 = keras.layers.Dense(64, activation='relu')(input_layer)\n",
    "dense_2 = keras.layers.Dense(32, activation='relu')(dense_1)\n",
    "output_sigmoid = keras.layers.Dense(output_dim_sigmoid,\n",
    "                                    activation='sigmoid')(dense_2)\n",
    "output_linear = keras.layers.Dense(output_dim_linear,\n",
    "                                   activation='linear')(dense_2)\n",
    "\n",
    "model = keras.models.Model(inputs=input_layer,\n",
    "                           outputs=[output_sigmoid, output_linear])\n",
    "\n",
    "# Compile the model with appropriate optimizer and loss function\n",
    "model.compile(optimizer='adam',\n",
    "              loss=['binary_crossentropy', 'mean_squared_error'])\n",
    "\n",
    "# Generate some dummy data for demonstration purposes\n",
    "X_train = np.random.rand(100, input_dim)\n",
    "\n",
    "y_sigmoid = np.random.randint(2, size=(100, output_dim_sigmoid))\n",
    "\n",
    "y_linear = np.random.randint(0, 256, size=(100, output_dim_linear))\n",
    "\n",
    "# Train the model on the dummy data\n",
    "model.fit(X_train, [y_sigmoid, y_linear], epochs=10, batch_size=16)\n",
    "\n",
    "# Use the model to make predictions on new data\n",
    "X_new = np.random.rand(1, input_dim)\n",
    "\n",
    "prediction = model.predict(X_new)\n",
    "\n",
    "print(prediction)\n"
   ]
  },
  {
   "cell_type": "code",
   "execution_count": 21,
   "metadata": {},
   "outputs": [],
   "source": [
    "sigmoid_output = prediction[0][0]\n",
    "linear_output = np.array(prediction[1][0])\n",
    "max_value = np.max(y_linear)\n",
    "scaled_linear_output = linear_output * (255.0 / max_value)"
   ]
  },
  {
   "cell_type": "code",
   "execution_count": 24,
   "metadata": {},
   "outputs": [
    {
     "name": "stdout",
     "output_type": "stream",
     "text": [
      "Sigmoid Output: [0.30991226]\n",
      "not scale [5.627608  4.9225144 5.3218265]\n",
      "Linear Output (scaled to 0-255): [5.6497636 4.9418945 5.3427787]\n"
     ]
    }
   ],
   "source": [
    "sigmoid_output = prediction[0][0]\n",
    "linear_output = np.array(prediction[1][0])\n",
    "max_value = np.max(y_linear)\n",
    "scaled_linear_output = linear_output * (255.0 / max_value)\n",
    "\n",
    "# Print the predicted outputs\n",
    "print(\"Sigmoid Output:\", sigmoid_output)\n",
    "print(f'not scale {linear_output}')\n",
    "print(\"Linear Output (scaled to 0-255):\", scaled_linear_output)\n"
   ]
  },
  {
   "cell_type": "code",
   "execution_count": 14,
   "metadata": {},
   "outputs": [
    {
     "name": "stdout",
     "output_type": "stream",
     "text": [
      "The autoreload extension is already loaded. To reload it, use:\n",
      "  %reload_ext autoreload\n"
     ]
    }
   ],
   "source": [
    "%load_ext autoreload\n",
    "%autoreload 2\n",
    "\n",
    "import tensorflow as tf\n",
    "from miniTransformer.sourcing.sourcing import create_dataset\n",
    "from miniTransformer.model.GPT_model import GPTModel\n",
    "from miniTransformer.model.generate import generate_text\n",
    "\n",
    "# Define the hyperparameters\n",
    "vocab_size = 34605\n",
    "embedding_size = 256\n",
    "num_layers = 4\n",
    "num_heads = 8\n",
    "dff = 512\n",
    "dropout_rate = 0.1\n",
    "batch_size = 32\n",
    "num_epochs = 10\n",
    "max_length= 10\n",
    "\n",
    "dataset, vocab, char2idx, idx2char, tokenizer = create_dataset('../miniTransformer/data/data.txt', batch_size=32, seq_length=10)\n"
   ]
  },
  {
   "cell_type": "code",
   "execution_count": 15,
   "metadata": {},
   "outputs": [],
   "source": [
    "# Initialize the GPT model\n",
    "model = GPTModel(vocab_size, embedding_size, num_layers, num_heads, dff,\n",
    "                 dropout_rate, max_length)\n",
    "\n",
    "# Define the loss function\n",
    "loss_object = tf.keras.losses.SparseCategoricalCrossentropy(from_logits=True)\n",
    "\n",
    "def loss_function(real, pred):\n",
    "    # Compute the loss\n",
    "    loss = loss_object(real, pred)\n",
    "\n",
    "    # Mask out the padding tokens\n",
    "    mask = tf.math.logical_not(tf.math.equal(real, 0))\n",
    "    mask = tf.cast(mask, dtype=loss.dtype)\n",
    "    loss *= mask\n",
    "\n",
    "    # Compute the mean loss\n",
    "    mean_loss = tf.reduce_sum(loss) / tf.reduce_sum(mask)\n",
    "\n",
    "    return mean_loss\n"
   ]
  },
  {
   "cell_type": "code",
   "execution_count": 16,
   "metadata": {},
   "outputs": [
    {
     "data": {
      "text/plain": [
       "<miniTransformer.model.GPT_model.GPTModel at 0x13d111a20>"
      ]
     },
     "execution_count": 16,
     "metadata": {},
     "output_type": "execute_result"
    }
   ],
   "source": [
    "model"
   ]
  },
  {
   "cell_type": "code",
   "execution_count": 17,
   "metadata": {},
   "outputs": [
    {
     "ename": "InvalidArgumentError",
     "evalue": "Exception encountered when calling layer 'transformer_block_12' (type TransformerBlock).\n\n{{function_node __wrapped__AddV2_device_/job:localhost/replica:0/task:0/device:CPU:0}} Incompatible shapes: [32,10,256] vs. [32,10,8] [Op:AddV2]\n\nCall arguments received by layer 'transformer_block_12' (type TransformerBlock):\n  • inputs=tf.Tensor(shape=(32, 10, 256), dtype=float32)\n  • training=None",
     "output_type": "error",
     "traceback": [
      "\u001b[0;31m---------------------------------------------------------------------------\u001b[0m",
      "\u001b[0;31mInvalidArgumentError\u001b[0m                      Traceback (most recent call last)",
      "Cell \u001b[0;32mIn[17], line 30\u001b[0m\n\u001b[1;32m     26\u001b[0m \u001b[39mfor\u001b[39;00m batch, (x_batch, y_batch) \u001b[39min\u001b[39;00m \u001b[39menumerate\u001b[39m(dataset):\n\u001b[1;32m     27\u001b[0m     \u001b[39m# Open a gradient tape to record the operations\u001b[39;00m\n\u001b[1;32m     28\u001b[0m     \u001b[39mwith\u001b[39;00m tf\u001b[39m.\u001b[39mGradientTape() \u001b[39mas\u001b[39;00m tape:\n\u001b[1;32m     29\u001b[0m         \u001b[39m# Run the input through the model to get the predictions\u001b[39;00m\n\u001b[0;32m---> 30\u001b[0m         predictions \u001b[39m=\u001b[39m model(x_batch)\n\u001b[1;32m     32\u001b[0m         \u001b[39m# Compute the loss between the predictions and the true labels\u001b[39;00m\n\u001b[1;32m     33\u001b[0m         loss \u001b[39m=\u001b[39m loss_function(y_batch, predictions)\n",
      "File \u001b[0;32m~/.pyenv/versions/3.10.6/envs/miniTransformer/lib/python3.10/site-packages/keras/utils/traceback_utils.py:70\u001b[0m, in \u001b[0;36mfilter_traceback.<locals>.error_handler\u001b[0;34m(*args, **kwargs)\u001b[0m\n\u001b[1;32m     67\u001b[0m     filtered_tb \u001b[39m=\u001b[39m _process_traceback_frames(e\u001b[39m.\u001b[39m__traceback__)\n\u001b[1;32m     68\u001b[0m     \u001b[39m# To get the full stack trace, call:\u001b[39;00m\n\u001b[1;32m     69\u001b[0m     \u001b[39m# `tf.debugging.disable_traceback_filtering()`\u001b[39;00m\n\u001b[0;32m---> 70\u001b[0m     \u001b[39mraise\u001b[39;00m e\u001b[39m.\u001b[39mwith_traceback(filtered_tb) \u001b[39mfrom\u001b[39;00m \u001b[39mNone\u001b[39m\n\u001b[1;32m     71\u001b[0m \u001b[39mfinally\u001b[39;00m:\n\u001b[1;32m     72\u001b[0m     \u001b[39mdel\u001b[39;00m filtered_tb\n",
      "File \u001b[0;32m~/Code/juan-garassino/miniTransformer/miniTransformer/model/GPT_model.py:37\u001b[0m, in \u001b[0;36mGPTModel.call\u001b[0;34m(self, inputs)\u001b[0m\n\u001b[1;32m     35\u001b[0m \u001b[39m# Pass the input through the transformer layers\u001b[39;00m\n\u001b[1;32m     36\u001b[0m \u001b[39mfor\u001b[39;00m i \u001b[39min\u001b[39;00m \u001b[39mrange\u001b[39m(\u001b[39mself\u001b[39m\u001b[39m.\u001b[39mnum_layers):\n\u001b[0;32m---> 37\u001b[0m     x \u001b[39m=\u001b[39m \u001b[39mself\u001b[39;49m\u001b[39m.\u001b[39;49mtransformer_layers[i](x)\n\u001b[1;32m     39\u001b[0m \u001b[39m# Pass the output through the output layer\u001b[39;00m\n\u001b[1;32m     40\u001b[0m output \u001b[39m=\u001b[39m \u001b[39mself\u001b[39m\u001b[39m.\u001b[39moutput_layer(x)\n",
      "File \u001b[0;32m~/Code/juan-garassino/miniTransformer/miniTransformer/model/transformer_block.py:24\u001b[0m, in \u001b[0;36mTransformerBlock.call\u001b[0;34m(self, inputs, training)\u001b[0m\n\u001b[1;32m     22\u001b[0m attn_output \u001b[39m=\u001b[39m \u001b[39mself\u001b[39m\u001b[39m.\u001b[39mdropout1(attn_output, training\u001b[39m=\u001b[39mtraining)\n\u001b[1;32m     23\u001b[0m attn_output \u001b[39m=\u001b[39m \u001b[39mself\u001b[39m\u001b[39m.\u001b[39mproj(attn_output)\n\u001b[0;32m---> 24\u001b[0m out1 \u001b[39m=\u001b[39m \u001b[39mself\u001b[39m\u001b[39m.\u001b[39mlayernorm1(inputs \u001b[39m+\u001b[39;49m attn_output)\n\u001b[1;32m     25\u001b[0m ffn_output \u001b[39m=\u001b[39m \u001b[39mself\u001b[39m\u001b[39m.\u001b[39mffn(out1)\n\u001b[1;32m     26\u001b[0m ffn_output \u001b[39m=\u001b[39m \u001b[39mself\u001b[39m\u001b[39m.\u001b[39mdropout2(ffn_output, training\u001b[39m=\u001b[39mtraining)\n",
      "\u001b[0;31mInvalidArgumentError\u001b[0m: Exception encountered when calling layer 'transformer_block_12' (type TransformerBlock).\n\n{{function_node __wrapped__AddV2_device_/job:localhost/replica:0/task:0/device:CPU:0}} Incompatible shapes: [32,10,256] vs. [32,10,8] [Op:AddV2]\n\nCall arguments received by layer 'transformer_block_12' (type TransformerBlock):\n  • inputs=tf.Tensor(shape=(32, 10, 256), dtype=float32)\n  • training=None"
     ]
    }
   ],
   "source": [
    "import os\n",
    "\n",
    "# Define the number of iterations between saving the model and generating text\n",
    "save_freq = 1000\n",
    "gen_freq = 500\n",
    "\n",
    "# Define the directory to save the model in\n",
    "save_dir = './saved_models'\n",
    "\n",
    "# Create the directory if it does not exist\n",
    "if not os.path.exists(save_dir):\n",
    "    os.makedirs(save_dir)\n",
    "\n",
    "# Define the optimizer\n",
    "optimizer = tf.keras.optimizers.Adam()\n",
    "\n",
    "# Define the training metrics\n",
    "train_loss = tf.keras.metrics.Mean(name='train_loss')\n",
    "\n",
    "# Iterate over the training data for a fixed number of epochs\n",
    "for epoch in range(num_epochs):\n",
    "    # Reset the training metrics\n",
    "    train_loss.reset_states()\n",
    "\n",
    "    # Iterate over the batches in the training dataset\n",
    "    for batch, (x_batch, y_batch) in enumerate(dataset):\n",
    "        # Open a gradient tape to record the operations\n",
    "        with tf.GradientTape() as tape:\n",
    "            # Run the input through the model to get the predictions\n",
    "            predictions = model(x_batch)\n",
    "\n",
    "            # Compute the loss between the predictions and the true labels\n",
    "            loss = loss_function(y_batch, predictions)\n",
    "\n",
    "        # Compute the gradients of the loss with respect to the model parameters\n",
    "        gradients = tape.gradient(loss, model.trainable_variables)\n",
    "\n",
    "        # Apply the gradients to update the model parameters\n",
    "        optimizer.apply_gradients(zip(gradients, model.trainable_variables))\n",
    "\n",
    "        # Update the training metrics\n",
    "        train_loss(loss)\n",
    "\n",
    "        # Print the training progress\n",
    "        if batch % 100 == 0:\n",
    "            print('Epoch {} Batch {} Loss {:.4f}'.format(epoch+1, batch, train_loss.result()))\n",
    "\n",
    "        # Save the model every save_freq iterations\n",
    "        if batch % save_freq == 0:\n",
    "            model.save(os.path.join(save_dir, 'model_{}_{}.h5'.format(epoch, batch)))\n",
    "\n",
    "        # Generate a random piece of text every gen_freq iterations\n",
    "        if batch % gen_freq == 0:\n",
    "            # Generate a random input sequence\n",
    "            input_sequence = tf.random.uniform((1, n), dtype=tf.int32, maxval=vocab_size)\n",
    "\n",
    "            # Generate the output sequence using the model\n",
    "            output_sequence = generate_text(model, input_sequence, max_length=max_length)\n",
    "\n",
    "            # Print the output sequence\n",
    "            print('Generated text:', tokenizer.decode(output_sequence.numpy()[0]))\n",
    "\n",
    "    # Print the training progress after each epoch\n",
    "    print('Epoch {} Loss {:.4f}'.format(epoch+1, train_loss.result()))\n",
    "\n"
   ]
  }
 ],
 "metadata": {
  "kernelspec": {
   "display_name": "miniTransformer",
   "language": "python",
   "name": "python3"
  },
  "language_info": {
   "codemirror_mode": {
    "name": "ipython",
    "version": 3
   },
   "file_extension": ".py",
   "mimetype": "text/x-python",
   "name": "python",
   "nbconvert_exporter": "python",
   "pygments_lexer": "ipython3",
   "version": "3.10.6"
  },
  "orig_nbformat": 4,
  "vscode": {
   "interpreter": {
    "hash": "0d2eb4c4e65757a2388ec457461da5e8a5ba758a2d79b2cc525712e4186b71fe"
   }
  }
 },
 "nbformat": 4,
 "nbformat_minor": 2
}
